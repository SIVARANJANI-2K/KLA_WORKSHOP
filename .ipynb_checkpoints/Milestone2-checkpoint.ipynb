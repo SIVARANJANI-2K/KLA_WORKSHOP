{
 "cells": [
  {
   "cell_type": "code",
   "execution_count": 1,
   "id": "ed1ed264-8711-4300-8e0d-ed56958db4d8",
   "metadata": {},
   "outputs": [],
   "source": [
    "import pandas as pd\n",
    "import os"
   ]
  },
  {
   "cell_type": "code",
   "execution_count": 2,
   "id": "03407fff-e21b-4a63-b921-83d6dadf1e5b",
   "metadata": {},
   "outputs": [],
   "source": [
    "Input_path='./Dataset-1/2nd'"
   ]
  },
  {
   "cell_type": "code",
   "execution_count": 3,
   "id": "3e992340-0b0e-401a-a951-686444ebec3f",
   "metadata": {},
   "outputs": [],
   "source": [
    "CareArea=os.path.join(Input_path,\"CareAreas.csv\")"
   ]
  },
  {
   "cell_type": "code",
   "execution_count": 4,
   "id": "5482699d-871e-47cf-9978-21911ab64bf6",
   "metadata": {},
   "outputs": [],
   "source": [
    "MetaPath=os.path.join(Input_path,\"metadata.csv\")"
   ]
  },
  {
   "cell_type": "code",
   "execution_count": 5,
   "id": "658645f0-8ed4-4c1e-8c09-efacd3b54143",
   "metadata": {},
   "outputs": [],
   "source": [
    "columns_coordinate=['ID','x1','x2','y1','y2']"
   ]
  },
  {
   "cell_type": "code",
   "execution_count": 6,
   "id": "a85ccbef-027e-4d35-90e7-08fd277998b4",
   "metadata": {},
   "outputs": [],
   "source": [
    "df_careArea=pd.read_csv(CareArea,names=columns_coordinate)"
   ]
  },
  {
   "cell_type": "code",
   "execution_count": 7,
   "id": "1cbf5975-b6b7-4e64-b936-359a2923991e",
   "metadata": {},
   "outputs": [
    {
     "data": {
      "text/html": [
       "<div>\n",
       "<style scoped>\n",
       "    .dataframe tbody tr th:only-of-type {\n",
       "        vertical-align: middle;\n",
       "    }\n",
       "\n",
       "    .dataframe tbody tr th {\n",
       "        vertical-align: top;\n",
       "    }\n",
       "\n",
       "    .dataframe thead th {\n",
       "        text-align: right;\n",
       "    }\n",
       "</style>\n",
       "<table border=\"1\" class=\"dataframe\">\n",
       "  <thead>\n",
       "    <tr style=\"text-align: right;\">\n",
       "      <th></th>\n",
       "      <th>ID</th>\n",
       "      <th>x1</th>\n",
       "      <th>x2</th>\n",
       "      <th>y1</th>\n",
       "      <th>y2</th>\n",
       "    </tr>\n",
       "  </thead>\n",
       "  <tbody>\n",
       "    <tr>\n",
       "      <th>0</th>\n",
       "      <td>0</td>\n",
       "      <td>0</td>\n",
       "      <td>2</td>\n",
       "      <td>0</td>\n",
       "      <td>2</td>\n",
       "    </tr>\n",
       "    <tr>\n",
       "      <th>1</th>\n",
       "      <td>1</td>\n",
       "      <td>0</td>\n",
       "      <td>2</td>\n",
       "      <td>42</td>\n",
       "      <td>44</td>\n",
       "    </tr>\n",
       "    <tr>\n",
       "      <th>2</th>\n",
       "      <td>2</td>\n",
       "      <td>0</td>\n",
       "      <td>2</td>\n",
       "      <td>84</td>\n",
       "      <td>86</td>\n",
       "    </tr>\n",
       "    <tr>\n",
       "      <th>3</th>\n",
       "      <td>3</td>\n",
       "      <td>0</td>\n",
       "      <td>2</td>\n",
       "      <td>126</td>\n",
       "      <td>128</td>\n",
       "    </tr>\n",
       "    <tr>\n",
       "      <th>4</th>\n",
       "      <td>4</td>\n",
       "      <td>0</td>\n",
       "      <td>2</td>\n",
       "      <td>168</td>\n",
       "      <td>170</td>\n",
       "    </tr>\n",
       "    <tr>\n",
       "      <th>...</th>\n",
       "      <td>...</td>\n",
       "      <td>...</td>\n",
       "      <td>...</td>\n",
       "      <td>...</td>\n",
       "      <td>...</td>\n",
       "    </tr>\n",
       "    <tr>\n",
       "      <th>237</th>\n",
       "      <td>237</td>\n",
       "      <td>882</td>\n",
       "      <td>884</td>\n",
       "      <td>252</td>\n",
       "      <td>254</td>\n",
       "    </tr>\n",
       "    <tr>\n",
       "      <th>238</th>\n",
       "      <td>238</td>\n",
       "      <td>882</td>\n",
       "      <td>884</td>\n",
       "      <td>294</td>\n",
       "      <td>296</td>\n",
       "    </tr>\n",
       "    <tr>\n",
       "      <th>239</th>\n",
       "      <td>239</td>\n",
       "      <td>882</td>\n",
       "      <td>884</td>\n",
       "      <td>336</td>\n",
       "      <td>338</td>\n",
       "    </tr>\n",
       "    <tr>\n",
       "      <th>240</th>\n",
       "      <td>240</td>\n",
       "      <td>882</td>\n",
       "      <td>884</td>\n",
       "      <td>378</td>\n",
       "      <td>380</td>\n",
       "    </tr>\n",
       "    <tr>\n",
       "      <th>241</th>\n",
       "      <td>241</td>\n",
       "      <td>882</td>\n",
       "      <td>884</td>\n",
       "      <td>420</td>\n",
       "      <td>422</td>\n",
       "    </tr>\n",
       "  </tbody>\n",
       "</table>\n",
       "<p>242 rows × 5 columns</p>\n",
       "</div>"
      ],
      "text/plain": [
       "      ID   x1   x2   y1   y2\n",
       "0      0    0    2    0    2\n",
       "1      1    0    2   42   44\n",
       "2      2    0    2   84   86\n",
       "3      3    0    2  126  128\n",
       "4      4    0    2  168  170\n",
       "..   ...  ...  ...  ...  ...\n",
       "237  237  882  884  252  254\n",
       "238  238  882  884  294  296\n",
       "239  239  882  884  336  338\n",
       "240  240  882  884  378  380\n",
       "241  241  882  884  420  422\n",
       "\n",
       "[242 rows x 5 columns]"
      ]
     },
     "execution_count": 7,
     "metadata": {},
     "output_type": "execute_result"
    }
   ],
   "source": [
    "df_careArea"
   ]
  },
  {
   "cell_type": "code",
   "execution_count": 8,
   "id": "969b6014-35b0-4eaa-9da0-927ddc59c065",
   "metadata": {},
   "outputs": [],
   "source": [
    "df_metadata=pd.read_csv(MetaPath)"
   ]
  },
  {
   "cell_type": "code",
   "execution_count": 9,
   "id": "a9b3d4cc-3a98-4064-bb49-2636776060c0",
   "metadata": {},
   "outputs": [
    {
     "data": {
      "text/html": [
       "<div>\n",
       "<style scoped>\n",
       "    .dataframe tbody tr th:only-of-type {\n",
       "        vertical-align: middle;\n",
       "    }\n",
       "\n",
       "    .dataframe tbody tr th {\n",
       "        vertical-align: top;\n",
       "    }\n",
       "\n",
       "    .dataframe thead th {\n",
       "        text-align: right;\n",
       "    }\n",
       "</style>\n",
       "<table border=\"1\" class=\"dataframe\">\n",
       "  <thead>\n",
       "    <tr style=\"text-align: right;\">\n",
       "      <th></th>\n",
       "      <th>Main Field Size</th>\n",
       "      <th>Sub Field Size</th>\n",
       "    </tr>\n",
       "  </thead>\n",
       "  <tbody>\n",
       "    <tr>\n",
       "      <th>0</th>\n",
       "      <td>100</td>\n",
       "      <td>2.56</td>\n",
       "    </tr>\n",
       "  </tbody>\n",
       "</table>\n",
       "</div>"
      ],
      "text/plain": [
       "   Main Field Size  Sub Field Size\n",
       "0              100            2.56"
      ]
     },
     "execution_count": 9,
     "metadata": {},
     "output_type": "execute_result"
    }
   ],
   "source": [
    "df_metadata"
   ]
  },
  {
   "cell_type": "code",
   "execution_count": 20,
   "id": "02385dc5-84df-4f5f-98b8-81cfef20713b",
   "metadata": {},
   "outputs": [],
   "source": [
    "#MainField coordinates\n",
    "datas=[]\n",
    "#Sub fields coordintes\n",
    "subfields=[]\n",
    "#subfield size\n",
    "sub_side=df_metadata.iat[0,1]\n",
    "main_side=df_metadata.iat[0,0]\n",
    "def set_mainframe():\n",
    "    num=0\n",
    "    for index,row in df_careArea.iterrows():\n",
    "        data=[]\n",
    "        x1=df_careArea.iat[index,1]\n",
    "        y1=df_careArea.iat[index,3]\n",
    "        x_c=df_careArea.iat[index,2]\n",
    "        y_c=df_careArea.iat[index,4]\n",
    "        x2=x1+main_side\n",
    "        y2=y1+main_side\n",
    "        flag=True\n",
    "        for d in datas:\n",
    "            if(d[1]>=x1 and d[2]>=x and \n",
    "        #set_subfield(x1,y1,x2,y2,x_c,y_c,index,num)\n",
    "        data.append(index)\n",
    "        data.append(x1)\n",
    "        data.append(x2)\n",
    "        data.append(y1)\n",
    "        data.append(y2)\n",
    "        datas.append(data)                    \n",
    "    df_main=pd.DataFrame(datas,columns=None)\n",
    "    return df_main\n",
    "        \n",
    "    "
   ]
  },
  {
   "cell_type": "code",
   "execution_count": 21,
   "id": "351e988c-1147-47bf-a149-5b4b80ec9eb9",
   "metadata": {},
   "outputs": [
    {
     "data": {
      "text/html": [
       "<div>\n",
       "<style scoped>\n",
       "    .dataframe tbody tr th:only-of-type {\n",
       "        vertical-align: middle;\n",
       "    }\n",
       "\n",
       "    .dataframe tbody tr th {\n",
       "        vertical-align: top;\n",
       "    }\n",
       "\n",
       "    .dataframe thead th {\n",
       "        text-align: right;\n",
       "    }\n",
       "</style>\n",
       "<table border=\"1\" class=\"dataframe\">\n",
       "  <thead>\n",
       "    <tr style=\"text-align: right;\">\n",
       "      <th></th>\n",
       "    </tr>\n",
       "  </thead>\n",
       "  <tbody>\n",
       "  </tbody>\n",
       "</table>\n",
       "</div>"
      ],
      "text/plain": [
       "Empty DataFrame\n",
       "Columns: []\n",
       "Index: []"
      ]
     },
     "execution_count": 21,
     "metadata": {},
     "output_type": "execute_result"
    }
   ],
   "source": [
    "df=set_mainframe()\n",
    "df.to_csv(\"MainFrameSample2.csv\",header=False,index=False)\n",
    "df_subfield=pd.DataFrame(subfields,columns=None)\n",
    "df_subfield.to_csv(\"SubField2.csv\",header=False,index=False)\n",
    "df_subfield"
   ]
  },
  {
   "cell_type": "code",
   "execution_count": 12,
   "id": "39052d94-a877-4858-a7fd-532377e48a7f",
   "metadata": {},
   "outputs": [],
   "source": [
    "def set_subfield(x1,y1,x2,y2,x_c,y_c,index,num):\n",
    "    subfield=[]\n",
    "    subfield.append(num)\n",
    "    num=num+1\n",
    "    subfield.append(x1)\n",
    "    x_m=x1+sub_side\n",
    "    y_m=y1+sub_side\n",
    "    subfield.append(x_m)\n",
    "    subfield.append(y1)\n",
    "    subfield.append(y_m)\n",
    "    subfield.append(index)\n",
    "    subfields.append(subfield)\n",
    "    while(x_m<=x2 and y_m<=y2):\n",
    "        sub=[]\n",
    "        if(x_m>=x_c and y_m<y_c):\n",
    "            x_m=x1\n",
    "            y1=y_m\n",
    "            y_m=y_m+sub_side\n",
    "            continue;\n",
    "        if(x_m>x_c and y_m>y_c):\n",
    "            break;\n",
    "        x_2=x_m+sub_side\n",
    "        sub.append(num)\n",
    "        num=num+1\n",
    "        sub.append(x_m)\n",
    "        sub.append(x_2)\n",
    "        sub.append(y1)\n",
    "        sub.append(y_m)\n",
    "        sub.append(index)\n",
    "        x_m=x_2\n",
    "        subfields.append(sub)\n",
    "        \n",
    "    \n",
    "    "
   ]
  },
  {
   "cell_type": "code",
   "execution_count": null,
   "id": "dc737c51-3d0b-49ee-beb0-8a60d96d6f42",
   "metadata": {},
   "outputs": [],
   "source": []
  }
 ],
 "metadata": {
  "kernelspec": {
   "display_name": "Python 3 (ipykernel)",
   "language": "python",
   "name": "python3"
  },
  "language_info": {
   "codemirror_mode": {
    "name": "ipython",
    "version": 3
   },
   "file_extension": ".py",
   "mimetype": "text/x-python",
   "name": "python",
   "nbconvert_exporter": "python",
   "pygments_lexer": "ipython3",
   "version": "3.12.4"
  }
 },
 "nbformat": 4,
 "nbformat_minor": 5
}
